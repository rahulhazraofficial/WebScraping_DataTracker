{
 "cells": [
  {
   "cell_type": "code",
   "execution_count": 20,
   "id": "1f65c36a",
   "metadata": {},
   "outputs": [],
   "source": [
    "# import libraries\n",
    "\n",
    "from bs4 import BeautifulSoup\n",
    "import requests\n",
    "import time\n",
    "import datetime\n",
    "import pandas as pd\n",
    "import csv"
   ]
  },
  {
   "cell_type": "code",
   "execution_count": 21,
   "id": "716198c9",
   "metadata": {},
   "outputs": [
    {
     "name": "stdout",
     "output_type": "stream",
     "text": [
      "Apple iPhone 14 (128 GB) - Starlight\n",
      "67,999\n"
     ]
    }
   ],
   "source": [
    "# connect to the website\n",
    "\n",
    "URL = 'https://www.amazon.in/Apple-iPhone-14-128GB-Starlight/dp/B0BDK8LKPJ/ref=sr_1_4?keywords=iphone%2B14&qid=1684823519&sprefix=i%2Caps%2C1227&sr=8-4&th=1'\n",
    "\n",
    "# find your computer's header through this link 'https://httpbin.org/get'\n",
    "# copy the user agent\n",
    "\n",
    "headers = { \"User-Agent\": \"Mozilla/5.0 (Windows NT 10.0; Win64; x64) AppleWebKit/537.36 (KHTML, like Gecko) Chrome/113.0.0.0 Safari/537.36 Edg/113.0.1774.50\" }\n",
    "\n",
    "\n",
    "\n",
    "# pulling the data & cleaning up\n",
    "\n",
    "page = requests.get (URL, headers = headers)\n",
    "\n",
    "soup1 = BeautifulSoup (page.content, 'html.parser')\n",
    "#print (soup1)\n",
    "\n",
    "soup2 = BeautifulSoup(soup1.prettify(), 'html.parser')\n",
    "#print (soup2)\n",
    "\n",
    "title = soup2.find(\"span\", attrs={\"id\": 'productTitle'}).text.strip()\n",
    "\n",
    "print (title)\n",
    "\n",
    "\n",
    "price = soup2.find(\"span\", attrs={\"class\": 'a-price aok-align-center reinventPricePriceToPayMargin priceToPay'}).find(\"span\", attrs={\"class\": 'a-price-whole'}).text.strip()\n",
    "\n",
    "print (price)\n",
    "\n"
   ]
  },
  {
   "cell_type": "code",
   "execution_count": 22,
   "id": "7ed69c48",
   "metadata": {},
   "outputs": [
    {
     "name": "stdout",
     "output_type": "stream",
     "text": [
      "2023-05-23\n"
     ]
    }
   ],
   "source": [
    "# Create a Timestamp (Date) to track when the data was collected\n",
    "\n",
    "today = datetime.date.today()\n",
    "\n",
    "print (today)\n"
   ]
  },
  {
   "cell_type": "code",
   "execution_count": 23,
   "id": "28c3ac12",
   "metadata": {},
   "outputs": [
    {
     "name": "stdout",
     "output_type": "stream",
     "text": [
      "18:00:56\n"
     ]
    }
   ],
   "source": [
    "# Create a Timestamp (Time) to track when the data was collected\n",
    "\n",
    "from datetime import datetime\n",
    "\n",
    "current_time = datetime.now().strftime('%H:%M:%S')\n",
    "\n",
    "print(current_time)\n"
   ]
  },
  {
   "cell_type": "code",
   "execution_count": 6,
   "id": "27b35197",
   "metadata": {},
   "outputs": [],
   "source": [
    "#create CSV\n",
    "\n",
    "header = ['Title', 'Date', 'Time', 'Price']\n",
    "\n",
    "data = [title, today, current_time, price]\n",
    "\n",
    "\n",
    "# write headers and data into the file\n",
    "# If we have to record continous data when we open the system then after the first time run, just comment out the below four lines\n",
    "\n",
    "with open ('iPhone14_Price_Dataset.csv', 'w', newline='', encoding = 'UTF8') as d:\n",
    "    writer = csv.writer(d)\n",
    "    writer.writerow (header)\n",
    "    writer.writerow (data)\n",
    "    \n",
    "    "
   ]
  },
  {
   "cell_type": "code",
   "execution_count": 24,
   "id": "5c2e81bb",
   "metadata": {},
   "outputs": [
    {
     "name": "stdout",
     "output_type": "stream",
     "text": [
      "                                   Title        Date      Time   Price\n",
      "0   Apple iPhone 14 (128 GB) - Starlight  2023-05-23  17:40:35  67,999\n",
      "1   Apple iPhone 14 (128 GB) - Starlight  2023-05-23  17:40:35  67,999\n",
      "2   Apple iPhone 14 (128 GB) - Starlight  2023-05-23  17:44:49  67,999\n",
      "3   Apple iPhone 14 (128 GB) - Starlight  2023-05-23  17:44:55  67,999\n",
      "4   Apple iPhone 14 (128 GB) - Starlight  2023-05-23  17:45:02  67,999\n",
      "5   Apple iPhone 14 (128 GB) - Starlight  2023-05-23  17:45:08  67,999\n",
      "6   Apple iPhone 14 (128 GB) - Starlight  2023-05-23  17:45:14  67,999\n",
      "7   Apple iPhone 14 (128 GB) - Starlight  2023-05-23  17:45:20  67,999\n",
      "8   Apple iPhone 14 (128 GB) - Starlight  2023-05-23  17:45:26  67,999\n",
      "9   Apple iPhone 14 (128 GB) - Starlight  2023-05-23  17:51:56  67,999\n",
      "10  Apple iPhone 14 (128 GB) - Starlight  2023-05-23  17:52:34  67,999\n",
      "11  Apple iPhone 14 (128 GB) - Starlight  2023-05-23  17:52:40  67,999\n",
      "12  Apple iPhone 14 (128 GB) - Starlight  2023-05-23  17:52:47  67,999\n",
      "13  Apple iPhone 14 (128 GB) - Starlight  2023-05-23  17:52:53  67,999\n",
      "14  Apple iPhone 14 (128 GB) - Starlight  2023-05-23  17:52:59  67,999\n"
     ]
    }
   ],
   "source": [
    "# Using Pandas to view the dataset in Python for ease of use\n",
    "# CSV path will differ from system to sytem depending upon where the file python saves initially\n",
    "# In my system path is \"C:\\Users\\RAHUL\"\n",
    "\n",
    "view = pd.read_csv(r'C:\\Users\\RAHUL\\iPhone14_Price_Dataset.csv')\n",
    "\n",
    "print (view)"
   ]
  },
  {
   "cell_type": "code",
   "execution_count": 25,
   "id": "7e073c23",
   "metadata": {},
   "outputs": [],
   "source": [
    "# Appending data to CSV\n",
    "\n",
    "with open('iPhone14_Price_Dataset.csv', 'a+', newline='', encoding = 'UTF8') as d:\n",
    "    writer = csv.writer(d)\n",
    "    writer.writerow (data)"
   ]
  },
  {
   "cell_type": "code",
   "execution_count": 26,
   "id": "21021a69",
   "metadata": {},
   "outputs": [],
   "source": [
    "# Combining all the code into one function\n",
    "\n",
    "def check():\n",
    "\n",
    "    URL = 'https://www.amazon.in/Apple-iPhone-14-128GB-Starlight/dp/B0BDK8LKPJ/ref=sr_1_4?keywords=iphone%2B14&qid=1684823519&sprefix=i%2Caps%2C1227&sr=8-4&th=1'\n",
    "    \n",
    "    headers = { \"User-Agent\": \"Mozilla/5.0 (Windows NT 10.0; Win64; x64) AppleWebKit/537.36 (KHTML, like Gecko) Chrome/113.0.0.0 Safari/537.36 Edg/113.0.1774.50\" }\n",
    "\n",
    "    page = requests.get (URL, headers = headers)\n",
    "\n",
    "    soup1 = BeautifulSoup (page.content, 'html.parser')\n",
    "\n",
    "    soup2 = BeautifulSoup(soup1.prettify(), 'html.parser')\n",
    "\n",
    "    title = soup2.find(\"span\", attrs={\"id\": 'productTitle'}).text.strip()\n",
    "    \n",
    "    price = soup2.find(\"span\", attrs={\"class\": 'a-price aok-align-center reinventPricePriceToPayMargin priceToPay'}).find(\"span\", attrs={\"class\": 'a-price-whole'}).text.strip()\n",
    "\n",
    "    import datetime\n",
    "    today = datetime.date.today()\n",
    "    \n",
    "    from datetime import datetime\n",
    "    current_time = datetime.now().strftime('%H:%M:%S')\n",
    "    \n",
    "    header = ['Title', 'Date', 'Time', 'Price']\n",
    "\n",
    "    data = [title, today, current_time, price]   \n",
    "\n",
    "    with open('iPhone14_Price_Dataset.csv', 'a+', newline='', encoding = 'UTF8') as d:\n",
    "        \n",
    "        writer = csv.writer(d)\n",
    "        writer.writerow (data) \n",
    "    "
   ]
  },
  {
   "cell_type": "code",
   "execution_count": 27,
   "id": "472d7f6f",
   "metadata": {},
   "outputs": [
    {
     "ename": "KeyboardInterrupt",
     "evalue": "",
     "output_type": "error",
     "traceback": [
      "\u001b[1;31m---------------------------------------------------------------------------\u001b[0m",
      "\u001b[1;31mKeyboardInterrupt\u001b[0m                         Traceback (most recent call last)",
      "Cell \u001b[1;32mIn[27], line 5\u001b[0m\n\u001b[0;32m      3\u001b[0m \u001b[38;5;28;01mwhile\u001b[39;00m(\u001b[38;5;28;01mTrue\u001b[39;00m):\n\u001b[0;32m      4\u001b[0m     check()\n\u001b[1;32m----> 5\u001b[0m     \u001b[43mtime\u001b[49m\u001b[38;5;241;43m.\u001b[39;49m\u001b[43msleep\u001b[49m\u001b[43m(\u001b[49m\u001b[38;5;241;43m3\u001b[39;49m\u001b[43m)\u001b[49m\n",
      "\u001b[1;31mKeyboardInterrupt\u001b[0m: "
     ]
    }
   ],
   "source": [
    "# Setting up the time interval to record the data\n",
    "# time.sleep(in this bracket we can enter time interval, but here time will be in seconds)\n",
    "# I put 3600 which will going to record data every hour\n",
    "\n",
    "while(True):\n",
    "    check()\n",
    "    time.sleep(3600)"
   ]
  },
  {
   "cell_type": "code",
   "execution_count": 28,
   "id": "e54a0936",
   "metadata": {},
   "outputs": [
    {
     "name": "stdout",
     "output_type": "stream",
     "text": [
      "                                   Title        Date      Time   Price\n",
      "0   Apple iPhone 14 (128 GB) - Starlight  2023-05-23  17:40:35  67,999\n",
      "1   Apple iPhone 14 (128 GB) - Starlight  2023-05-23  17:40:35  67,999\n",
      "2   Apple iPhone 14 (128 GB) - Starlight  2023-05-23  17:44:49  67,999\n",
      "3   Apple iPhone 14 (128 GB) - Starlight  2023-05-23  17:44:55  67,999\n",
      "4   Apple iPhone 14 (128 GB) - Starlight  2023-05-23  17:45:02  67,999\n",
      "5   Apple iPhone 14 (128 GB) - Starlight  2023-05-23  17:45:08  67,999\n",
      "6   Apple iPhone 14 (128 GB) - Starlight  2023-05-23  17:45:14  67,999\n",
      "7   Apple iPhone 14 (128 GB) - Starlight  2023-05-23  17:45:20  67,999\n",
      "8   Apple iPhone 14 (128 GB) - Starlight  2023-05-23  17:45:26  67,999\n",
      "9   Apple iPhone 14 (128 GB) - Starlight  2023-05-23  17:51:56  67,999\n",
      "10  Apple iPhone 14 (128 GB) - Starlight  2023-05-23  17:52:34  67,999\n",
      "11  Apple iPhone 14 (128 GB) - Starlight  2023-05-23  17:52:40  67,999\n",
      "12  Apple iPhone 14 (128 GB) - Starlight  2023-05-23  17:52:47  67,999\n",
      "13  Apple iPhone 14 (128 GB) - Starlight  2023-05-23  17:52:53  67,999\n",
      "14  Apple iPhone 14 (128 GB) - Starlight  2023-05-23  17:52:59  67,999\n",
      "15  Apple iPhone 14 (128 GB) - Starlight  2023-05-23  17:40:35  67,999\n",
      "16  Apple iPhone 14 (128 GB) - Starlight  2023-05-23  18:01:20  67,999\n",
      "17  Apple iPhone 14 (128 GB) - Starlight  2023-05-23  18:01:27  67,999\n"
     ]
    }
   ],
   "source": [
    "# After running the programme to view updated dataset\n",
    "view = pd.read_csv(r'C:\\Users\\RAHUL\\iPhone14_Price_Dataset.csv')\n",
    "\n",
    "print (view)"
   ]
  },
  {
   "cell_type": "code",
   "execution_count": null,
   "id": "ef493f9e",
   "metadata": {},
   "outputs": [],
   "source": []
  }
 ],
 "metadata": {
  "kernelspec": {
   "display_name": "Python 3 (ipykernel)",
   "language": "python",
   "name": "python3"
  },
  "language_info": {
   "codemirror_mode": {
    "name": "ipython",
    "version": 3
   },
   "file_extension": ".py",
   "mimetype": "text/x-python",
   "name": "python",
   "nbconvert_exporter": "python",
   "pygments_lexer": "ipython3",
   "version": "3.10.9"
  }
 },
 "nbformat": 4,
 "nbformat_minor": 5
}
